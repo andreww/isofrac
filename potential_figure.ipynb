{
 "cells": [
  {
   "cell_type": "markdown",
   "metadata": {},
   "source": [
    "# Fitting the \"ionic model\" of isotope fractionation \n",
    "\n",
    "The starting point is to imagine that the isotope vibrates in a potential well\n",
    "that somehow represents the effective bonding between the atom of interest and\n",
    "the rest of the crystal. We can follow Young et al. (2015) and represent the\n",
    "interaction via a Born–Mayer type interionic potential:\n",
    "\n",
    "$$ E(r) = \\frac{z_1 z_2}{r}\\left(\\frac{e^2}{4\\pi\\epsilon_0}\\right) + \\frac{b}{r^n} + E_0,$$\n",
    "\n",
    "which gives the energy of the bond, $E$, as a function of the distance between the ions, $r$.\n",
    "The first term represents the Coulomb interaction between ions (which is attractive \n",
    "for ions of opposite charge since reducing $r$ makes the energy more negative). The\n",
    "the second term represents repulsion between ions due to overlap of their electron clouds. At small\n",
    "$r$ this repulsion dominates and there is an $r$, the equilibrium bond length, $r_0$, \n",
    "which minimizes $E$. The parameters $z_1$ and $z_2$ represent the charges on the ions, $e$ is the \n",
    "charge of an electron, $\\epsilon_0$ is the vacuum permittivity. The parameters $b$ and $n$ \n",
    "define the strength and shape of the repulsion term. $E_0$ just sets the absolute energy (and is not further\n",
    "involved otherwise). \n",
    "\n",
    "The force acting between the ions is the derivative of the energy with respect to distance\n",
    "(I think the convention is usually that the force is the negative derivative, but that would\n",
    "either imply a sign error in Young et al. 2015 or that I cannot take the derivative of a\n",
    "polynomial), which leads to equation 30 of Young et al. 2015:\n",
    "\n",
    "$$ F(r) = \\frac{\\mathrm{d}E}{\\mathrm{d}r} \n",
    "        =  -\\frac{z_1 z_2}{r^2}\\left(\\frac{e^2}{4\\pi\\epsilon_0}\\right)\n",
    "           - \\frac{bn}{r^{n+1}}.$$    \n",
    "\n",
    "At the equilibrium bond distance, $r_0$, $\\frac{\\mathrm{d}E}{\\mathrm{d}r} = 0$. This\n",
    "means we can find $b$ in terms of the other parameters such that we can choose $r_0$:\n",
    "\n",
    "$$ b = -\\left(\\frac{e^2}{4\\pi\\epsilon_0}\\right)\\frac{z_1 z_2}{nr_0^{n-1}}. $$\n",
    "\n",
    "Commonly $n$ is set to 12, $r_0$ is taken from the ionic radii, and this sets $b$ for the\n",
    "mineral of interest.\n",
    "\n",
    "For isotopic fractionation, we need the force constant, $K_f$ for the effective bond. This is given\n",
    "by the second derivative of the energy with respect to distance:\n",
    "\n",
    "$$ K(r) = \\frac{\\mathrm{d}^2E}{\\mathrm{d}r^2}\n",
    "        = \\frac{2 z_1 z_2}{r^3}\\left(\\frac{e^2}{4\\pi\\epsilon_0}\\right)\n",
    "           - \\frac{b(n-1)n}{r^{n+2}},$$\n",
    "           \n",
    "evaluated at $r_0$. Substituting $b$ and $r_0$ into this function gives $K_f$:\n",
    "\n",
    "$$K_f = K(r=r_0) = \\frac{2z_1 z_2}{r_0^3}\\left(\\frac{e^2}{4\\pi\\epsilon_0}\\right)\n",
    "           - \\left(\\frac{z_1 z_2 e^2}{4\\pi\\epsilon_0}\\right)\\frac{(n-1)n}{nr_0^{n-1} r_0^{n+2}}\\\\\n",
    "           = \\frac{z_1 z_2 e^2 (1 - n)}{4\\pi\\epsilon_0 r_0^3},$$\n",
    "           \n",
    "where the final form is given as equation 31 in Young et al. (2015). The following cells implement\n",
    "and plot these various functions.\n"
   ]
  },
  {
   "cell_type": "code",
   "execution_count": 1,
   "metadata": {},
   "outputs": [],
   "source": [
    "# Import modules\n",
    "import numpy as np\n",
    "import matplotlib.pyplot as plt\n",
    "%matplotlib inline"
   ]
  },
  {
   "cell_type": "code",
   "execution_count": 2,
   "metadata": {},
   "outputs": [],
   "source": [
    "# Define constants\n",
    "eps0 = 8.854187817E-12 # Vacuum permittivity (F/m)\n",
    "e = 1.60217662E-19 # electron charge (C)\n",
    "\n",
    "# Conversion factors\n",
    "m2ang = 1.0E10\n",
    "j2ev = 6.242E18\n",
    "\n",
    "def energy(r, zi, zj, b, n):\n",
    "    \"\"\"\n",
    "    Energy from Born-Mayer type interionic potential\n",
    "    \n",
    "    r - distance between ions (m); can be array\n",
    "    zi, zj - charges on ions (electrons)\n",
    "    b - strength of repulsive part (J/m^n)\n",
    "    n - exponent for repulsive part (-); typically ~12\n",
    "    returns energy (J)\n",
    "    \"\"\"\n",
    "    en = (zi*zj*e**2)/(4.0*np.pi*eps0*r) + (b/r**n)\n",
    "    return en\n",
    "    \n",
    "    \n",
    "def de_by_dr(r, zi, zj, b, n):\n",
    "    \"\"\"\n",
    "    Derivative (force) of Born-Mayer type interionic potential\n",
    "    \n",
    "    r - distance between ions (m); can be array\n",
    "    zi, zj - charges on ions (electrons)\n",
    "    b - strength of repulsive part (J/m^n)\n",
    "    n - exponent for repulsive part (-); typically ~12\n",
    "    returns force (J/m = N)\n",
    "    \n",
    "    NB: Is the sign convention correct?\n",
    "    \"\"\"\n",
    "    force = -((zi*zj*e**2)/(4.0*np.pi*eps0*r**2)) - ((b*n)/r**(n+1))\n",
    "    return force\n",
    "\n",
    "\n",
    "def d2e_by_dr2(r, zi, zj, b, n):\n",
    "    \"\"\"\n",
    "    Second derivative of Born-Mayer type interionic potential\n",
    "    \n",
    "    r - distance between ions (m); can be array\n",
    "    zi, zj - charges on ions (electrons)\n",
    "    b - strength of repulsive part (J/m^n)\n",
    "    n - exponent for repulsive part (-); typically ~12\n",
    "    returns second derivative of energy (J/m^2 = N/m)\n",
    "    \"\"\"\n",
    "    k = ((2.0*zi*zj*e**2)/(4.0*np.pi*eps0*r**3)) - ((b*(-n-1)*n)/r**(n+2))\n",
    "    return k\n",
    "\n",
    "\n",
    "def cal_b(r0, zi, zj, n):\n",
    "    \"\"\"\n",
    "    Calculate b for Born-Mayer type interionic potential to give an equilbrium bond length\n",
    "    \n",
    "    r_0 - equilibrioumdistance between ions (m); can be array\n",
    "    zi, zj - charges on ions (electrons)\n",
    "    n - exponent for repulsive part (-); typically ~12\n",
    "    returns b such that energy minimum is at r_0 (J/m^n)\n",
    "    \"\"\"\n",
    "    b = -((zi*zj*e**2)/(4.0*np.pi*eps0*r0**2)) * r0**(n+1)/n\n",
    "    return b\n",
    "\n",
    "\n",
    "def kf(r0, zi, zj, n):\n",
    "    \"\"\"\n",
    "    Calculate force constant for Born-Mayer type interionic potential\n",
    "    \n",
    "    r_0 - equilibrium distance between ions (m); can be array\n",
    "    zi, zj - charges on ions (electrons)\n",
    "    n - exponent for repulsive part (-); typically ~12\n",
    "    returns force constant (J/m^n)\n",
    "    \"\"\"\n",
    "    k = (zi * zj * e**2 * (1-n)) / (4.0 * np.pi * eps0 * r0**3)\n",
    "    return k"
   ]
  },
  {
   "cell_type": "code",
   "execution_count": 3,
   "metadata": {},
   "outputs": [
    {
     "data": {
      "image/png": "[encoded data removed]",
      "text/plain": [
       "<Figure size 864x432 with 1 Axes>"
      ]
     },
     "metadata": {
      "needs_background": "light"
     },
     "output_type": "display_data"
    },
    {
     "data": {
      "image/png": "[encoded data removed]",
      "text/plain": [
       "<Figure size 864x432 with 1 Axes>"
      ]
     },
     "metadata": {
      "needs_background": "light"
     },
     "output_type": "display_data"
    },
    {
     "name": "stdout",
     "output_type": "stream",
     "text": [
      "Energy around r_0: [-25.14418095 -25.14421525 -25.14418112] eV\n",
      "Force at r_0: 0.0 eV/Ang\n",
      "Second derivative at r0: 1096.1171631664827 N/m\n",
      "Kf: 1096.117163166483 N/m\n"
     ]
    }
   ],
   "source": [
    "# Plot an example and check some values\n",
    "rs = np.linspace(1.5, 4.0) # Angstroms\n",
    "n = 12\n",
    "zi = 2.0\n",
    "zj = -2.0\n",
    "\n",
    "r0 = 2.1 # Angstroms\n",
    "b = cal_b(r0/m2ang, zi, zj, n)\n",
    "\n",
    "fig, ax = plt.subplots(figsize=(12,6))\n",
    "ax.plot(rs, energy(rs/m2ang, zi, zj, b, n)*j2ev)\n",
    "ax.set_xlabel('Distance (Angstroms)')\n",
    "ax.set_ylabel('Energy (eV)')\n",
    "ax.axvline(r0)\n",
    "plt.show()\n",
    "\n",
    "fig, ax = plt.subplots(figsize=(12,6))\n",
    "ax.plot(rs, de_by_dr(rs/m2ang, zi, zj, b, n)*j2ev/m2ang, 'r')\n",
    "ax.axvline(r0)\n",
    "ax.axhline(0.0)\n",
    "ax.set_ylim(-25, 25)\n",
    "ax.set_xlabel('Distance (Angstroms)')\n",
    "ax.set_ylabel('Force (eV/Angstrom)')\n",
    "plt.show()\n",
    "\n",
    "print(\"Energy around r_0:\", energy(np.array([r0-0.001, r0, r0+0.001])/m2ang, zi, zj, b, n)*j2ev, \"eV\")\n",
    "print(\"Force at r_0:\", de_by_dr(r0/m2ang, zi, zj, b, n)*j2ev/m2ang, \"eV/Ang\")\n",
    "print(\"Second derivative at r0:\", d2e_by_dr2(r0/m2ang, zi, zj, b, n), \"N/m\")\n",
    "print(\"Kf:\", kf(r0/m2ang, zi, zj, n), \"N/m\") # No b"
   ]
  },
  {
   "cell_type": "code",
   "execution_count": null,
   "metadata": {},
   "outputs": [],
   "source": []
  }
 ],
 "metadata": {
  "kernelspec": {
   "display_name": "Python 3",
   "language": "python",
   "name": "python3"
  },
  "language_info": {
   "codemirror_mode": {
    "name": "ipython",
    "version": 3
   },
   "file_extension": ".py",
   "mimetype": "text/x-python",
   "name": "python",
   "nbconvert_exporter": "python",
   "pygments_lexer": "ipython3",
   "version": "3.7.3"
  }
 },
 "nbformat": 4,
 "nbformat_minor": 2
}

{
 "cells": [
  {
   "cell_type": "markdown",
   "metadata": {},
   "source": [
    "# Fitting the \"ionic model\" of isotope fractionation \n",
    "\n",
    "The starting point is to imagine that the isotope vibrates in a potential well\n",
    "that somehow represents the effective bonding between the atom of interest and\n",
    "the rest of the crystal. We can follow Young et al. (2015) and represent the\n",
    "interaction via a Born–Mayer type interionic potential:\n",
    "\n",
    "$$ E(r_{ij}) = \\frac{z_iz_j}{r_{ij}}\\left(\\frac{e^2}{4\\pi\\epsilon_0}\\right) + \\frac{b}{r_{ij}^n} + E_0$$\n",
    "\n",
    "which gives the energy of the bond, $E$, as a function of the distance between the ions, $r_{ij}$.\n",
    "The first term represents the Coulomb interaction between ions (which is attractive \n",
    "for ions of opposite charge since reducing r_{ij} makes the energy more negative). The\n",
    "the second term represents repulsion between ions due to overlap of their electron clouds. At small\n",
    "$r_{ij}$ this repulsion dominates and there is an $r_{ij}$, the equilbrium bond lenght $r_0$, \n",
    "which minimises $E$. The parameters $z_i$ and $z_j$ represent the charges on the ions, $e$ is the \n",
    "charge of an electron, $\\epsilon_0$ is the vaccum permittivity, and $b$ and $n$ are parameters that\n",
    "define the strength of the repulsion term. $E_0$ just sets the absolute energy (and is not further\n",
    "involved otherwise). The force acting between ions is the neg\n",
    "\n",
    "Force...\n",
    "\n",
    "$$ F(r) = \\frac{\\mathrm{d}E}{\\mathrm{d}r} \n",
    "        =  -\\frac{z_iz_j}{r^2_{ij}}\\left(\\frac{e^2}{4\\pi\\epsilon_0}\\right)\n",
    "           - \\frac{bn}{r_{ij}^{n+1}}$$\n",
    "                                             \n",
    "Force constant \n",
    "\n",
    "$$ K(r) = \\frac{\\mathrm{d}^2E}{\\mathrm{d}r^2}\n",
    "        = \\frac{2z_iz_j}{r^3_{ij}}\\left(\\frac{e^2}{4\\pi\\epsilon_0}\\right)\n",
    "           - \\frac{b(n-1)n}{r_{ij}^{n+2}}$$\n",
    "           \n",
    "at minimum, $r_0$, $\\frac{\\mathrm{d}E}{\\mathrm{d}r} = 0$ thus:\n",
    "\n",
    "$$ b = -\\left(\\frac{e^2}{4\\pi\\epsilon_0}\\right)\\frac{z_iz_j}{nr_0^{n-1}} $$\n",
    "\n",
    "and\n",
    "\n",
    "$$K(r=r_0) = \\frac{2z_iz_j}{r^3_{ij}}\\left(\\frac{e^2}{4\\pi\\epsilon_0}\\right)\n",
    "           - \\left(\\frac{z_iz_je^2}{4\\pi\\epsilon_0}\\right)\\frac{(n-1)n}{nr_0^{n-1} r_0^{n+2}}$$\n",
    "           \n",
    "... need to check this lot. See notebook"
   ]
  },
  {
   "cell_type": "code",
   "execution_count": 1,
   "metadata": {},
   "outputs": [],
   "source": [
    "import numpy as np\n",
    "import matplotlib.pyplot as plt\n",
    "%matplotlib inline"
   ]
  },
  {
   "cell_type": "code",
   "execution_count": 2,
   "metadata": {},
   "outputs": [],
   "source": [
    "def energy(r, zi, zj, b, n):\n",
    "    eps0 = 8.854187817E-12 # Vaccum permittivity (F/m)\n",
    "    e = 1.60217662E-19 # electron charge (C)\n",
    "    en = (zi*zj*e**2)/(4.0*np.pi*eps0*r) + (b/r**n)\n",
    "    return en\n",
    "    "
   ]
  },
  {
   "cell_type": "code",
   "execution_count": 3,
   "metadata": {},
   "outputs": [],
   "source": [
    "def cal_b(r0, zi, zj, n):\n",
    "    eps0 = 8.854187817E-12 # Vaccum permittivity (F/m)\n",
    "    e = 1.60217662E-19 # electron charge (C)\n",
    "    b = -((zi*zj*e**2)/(4.0*np.pi*eps0*r0**2)) * r0**(n+1)/n\n",
    "    return b"
   ]
  },
  {
   "cell_type": "code",
   "execution_count": 4,
   "metadata": {},
   "outputs": [],
   "source": [
    "def de_by_dr(r, zi, zj, b, n):\n",
    "    eps0 = 8.854187817E-12 # Vaccum permittivity (F/m)\n",
    "    e = 1.60217662E-19 # electron charge (C)\n",
    "    force = -((zi*zj*e**2)/(4.0*np.pi*eps0*r**2)) - ((b*n)/r**(n+1))\n",
    "    return force"
   ]
  },
  {
   "cell_type": "code",
   "execution_count": 38,
   "metadata": {},
   "outputs": [],
   "source": [
    "def d2e_by_dr2(r, zi, zj, b, n):\n",
    "    eps0 = 8.854187817E-12 # Vaccum permittivity (F/m)\n",
    "    e = 1.60217662E-19 # electron charge (C)\n",
    "    k = ((2.0*zi*zj*e**2)/(4.0*np.pi*eps0*r**3)) - ((b*(-n-1)*n)/r**(n+2))\n",
    "    return k"
   ]
  },
  {
   "cell_type": "code",
   "execution_count": 39,
   "metadata": {},
   "outputs": [],
   "source": [
    "def kf(r0, zi, zj, n):\n",
    "    eps0 = 8.854187817E-12 # Vaccum permittivity (F/m)\n",
    "    e = 1.60217662E-19 # electron charge (C)\n",
    "    k = (zi * zj * e**2 * (1-n)) / (4.0 * np.pi * eps0 * r0**3)\n",
    "    return k"
   ]
  },
  {
   "cell_type": "code",
   "execution_count": 40,
   "metadata": {},
   "outputs": [
    {
     "name": "stdout",
     "output_type": "stream",
     "text": [
      "0.0\n",
      "1069.9224200741644\n",
      "1069.9224200741646\n"
     ]
    }
   ],
   "source": [
    "rs = np.linspace(1.5E-10, 4.0E-10)\n",
    "n = 12\n",
    "zi = 2.0\n",
    "zj = -2.0\n",
    "r0 = 2.1170E-10\n",
    "b = cal_b(r0, zi, zj, n)\n",
    "ens = energy(rs, zi, zj, b, n)\n",
    "force = de_by_dr(rs, zi, zj, b, n)\n",
    "k = d2e_by_dr2(rs, zi, zj, b, n)\n",
    "print(de_by_dr(r0, zi, zj, b, n))\n",
    "print(d2e_by_dr2(r0, zi, zj, b, n))\n",
    "print(kf(r0, zi, zj, n))"
   ]
  },
  {
   "cell_type": "code",
   "execution_count": 41,
   "metadata": {},
   "outputs": [
    {
     "data": {
      "image/png": "[encoded data removed]",
      "text/plain": [
       "<Figure size 432x864 with 3 Axes>"
      ]
     },
     "metadata": {
      "needs_background": "light"
     },
     "output_type": "display_data"
    }
   ],
   "source": [
    "fig, ax = plt.subplots(nrows=3, figsize=(6,12), sharex=True)\n",
    "\n",
    "ax[0].plot(rs, ens)\n",
    "ax[0].set_ylim(-1E-17, 1E-17)\n",
    "ax[0].axvline(r0)\n",
    "\n",
    "ax[1].plot(rs, force, 'r')\n",
    "ax[1].set_ylim(-0.00000025, 0.00000025)\n",
    "ax[1].axvline(r0)\n",
    "ax[1].axhline(0.0)\n",
    "\n",
    "ax[2].plot(rs, k)\n",
    "ax[2].axvline(r0)\n",
    "plt.show()"
   ]
  },
  {
   "cell_type": "code",
   "execution_count": null,
   "metadata": {},
   "outputs": [],
   "source": []
  },
  {
   "cell_type": "code",
   "execution_count": null,
   "metadata": {},
   "outputs": [],
   "source": []
  }
 ],
 "metadata": {
  "kernelspec": {
   "display_name": "Python 3",
   "language": "python",
   "name": "python3"
  },
  "language_info": {
   "codemirror_mode": {
    "name": "ipython",
    "version": 3
   },
   "file_extension": ".py",
   "mimetype": "text/x-python",
   "name": "python",
   "nbconvert_exporter": "python",
   "pygments_lexer": "ipython3",
   "version": "3.8.5"
  }
 },
 "nbformat": 4,
 "nbformat_minor": 2
}
